{
 "cells": [
  {
   "cell_type": "code",
   "execution_count": 1,
   "metadata": {
    "colab": {
     "base_uri": "https://localhost:8080/"
    },
    "executionInfo": {
     "elapsed": 4086,
     "status": "ok",
     "timestamp": 1742958605228,
     "user": {
      "displayName": "Rithvik Senthil",
      "userId": "05847515472306865845"
     },
     "user_tz": 240
    },
    "id": "HCN2QizboVNR",
    "outputId": "b343669f-d343-4197-eafa-7b8ccea448b7"
   },
   "outputs": [
    {
     "name": "stdout",
     "output_type": "stream",
     "text": [
      "Requirement already satisfied: panphon in c:\\users\\17813\\anaconda3\\lib\\site-packages (0.21.2)\n",
      "Requirement already satisfied: numpy>=1.20.2 in c:\\users\\17813\\anaconda3\\lib\\site-packages (from panphon) (1.26.2)\n",
      "Requirement already satisfied: regex in c:\\users\\17813\\anaconda3\\lib\\site-packages (from panphon) (2022.3.15)\n",
      "Requirement already satisfied: unicodecsv in c:\\users\\17813\\anaconda3\\lib\\site-packages (from panphon) (0.14.1)\n",
      "Requirement already satisfied: PyYAML in c:\\users\\17813\\anaconda3\\lib\\site-packages (from panphon) (6.0)\n",
      "Requirement already satisfied: munkres in c:\\users\\17813\\anaconda3\\lib\\site-packages (from panphon) (1.1.4)\n",
      "Requirement already satisfied: editdistance in c:\\users\\17813\\anaconda3\\lib\\site-packages (from panphon) (0.8.1)\n",
      "Requirement already satisfied: setuptools in c:\\users\\17813\\anaconda3\\lib\\site-packages (from panphon) (61.2.0)\n"
     ]
    }
   ],
   "source": [
    "!pip install panphon"
   ]
  },
  {
   "cell_type": "code",
   "execution_count": 2,
   "metadata": {
    "id": "HHhOC6limLA8"
   },
   "outputs": [],
   "source": [
    "import numpy as np\n",
    "import panphon"
   ]
  },
  {
   "cell_type": "code",
   "execution_count": 3,
   "metadata": {
    "colab": {
     "base_uri": "https://localhost:8080/"
    },
    "executionInfo": {
     "elapsed": 213,
     "status": "ok",
     "timestamp": 1742958994888,
     "user": {
      "displayName": "Rithvik Senthil",
      "userId": "05847515472306865845"
     },
     "user_tz": 240
    },
    "id": "6-OJKJZi8cez",
    "outputId": "8628d56a-f4bb-46a5-df5b-af68dc64fec9"
   },
   "outputs": [
    {
     "name": "stdout",
     "output_type": "stream",
     "text": [
      "[WinError 2] The system cannot find the file specified: '/content/'\n",
      "c:\\Users\\17813\\Desktop\\CMU\\2025 Spring\\Subword Modeling\\Subword-Modeling\\Project4\n"
     ]
    },
    {
     "name": "stderr",
     "output_type": "stream",
     "text": [
      "'rm' is not recognized as an internal or external command,\n",
      "operable program or batch file.\n",
      "'unzip' is not recognized as an internal or external command,\n",
      "operable program or batch file.\n"
     ]
    }
   ],
   "source": [
    "%cd /content/\n",
    "!rm -rf dataset\n",
    "!unzip dataset.zip"
   ]
  },
  {
   "cell_type": "code",
   "execution_count": 4,
   "metadata": {
    "id": "Pi_TQXHc1vqS"
   },
   "outputs": [],
   "source": [
    "def mean_reciprocal_rank(gold, inputs, preds):\n",
    "  total = []\n",
    "  for idx, inp in enumerate(inputs):\n",
    "    if gold[\"\\t\".join(inp)] in preds[idx][:5]:\n",
    "      total.append(1.0 / (preds[idx].index(gold[\"\\t\".join(inp)]) + 1))\n",
    "    else:\n",
    "      total.append(0.0)\n",
    "\n",
    "  return sum(total) / len(total)"
   ]
  },
  {
   "cell_type": "code",
   "execution_count": 5,
   "metadata": {
    "id": "zWut7RfByUj4"
   },
   "outputs": [],
   "source": [
    "def pad_sequence(seq, length):\n",
    "  return np.vstack([seq, np.ones((length - seq.shape[0], seq.shape[1]), dtype=float) * 1e-10])"
   ]
  },
  {
   "cell_type": "code",
   "execution_count": 6,
   "metadata": {
    "id": "A0w3-ON22wy9"
   },
   "outputs": [],
   "source": [
    "def save_preds(preds, langA, langB):\n",
    "  with open(f'{langA}-{langB}_out.tsv', 'w') as f:\n",
    "    preds = ['\\t'.join(p) for p in preds]\n",
    "    f.write('\\n'.join(preds))"
   ]
  },
  {
   "cell_type": "code",
   "execution_count": 7,
   "metadata": {
    "id": "En-qYzR-one9"
   },
   "outputs": [],
   "source": [
    "langA = 'ukhrul'\n",
    "langB = 'kachai'"
   ]
  },
  {
   "cell_type": "code",
   "execution_count": 8,
   "metadata": {
    "colab": {
     "base_uri": "https://localhost:8080/"
    },
    "executionInfo": {
     "elapsed": 244,
     "status": "ok",
     "timestamp": 1742959915099,
     "user": {
      "displayName": "Rithvik Senthil",
      "userId": "05847515472306865845"
     },
     "user_tz": 240
    },
    "id": "cCUC9CfRo1zU",
    "outputId": "1eb515bd-22fd-43b2-9bd2-5d9ed669ea07"
   },
   "outputs": [
    {
     "ename": "FileNotFoundError",
     "evalue": "[Errno 2] No such file or directory: 'dataset/ukhrul-kachai_gold.tsv'",
     "output_type": "error",
     "traceback": [
      "\u001b[1;31m---------------------------------------------------------------------------\u001b[0m",
      "\u001b[1;31mFileNotFoundError\u001b[0m                         Traceback (most recent call last)",
      "Cell \u001b[1;32mIn[8], line 3\u001b[0m\n\u001b[0;32m      1\u001b[0m inputs \u001b[38;5;241m=\u001b[39m [l\u001b[38;5;241m.\u001b[39mstrip()\u001b[38;5;241m.\u001b[39msplit(\u001b[38;5;124m'\u001b[39m\u001b[38;5;130;01m\\t\u001b[39;00m\u001b[38;5;124m'\u001b[39m) \u001b[38;5;28;01mfor\u001b[39;00m l \u001b[38;5;129;01min\u001b[39;00m \u001b[38;5;28mopen\u001b[39m(\u001b[38;5;124mf\u001b[39m\u001b[38;5;124m'\u001b[39m\u001b[38;5;124mdataset/\u001b[39m\u001b[38;5;132;01m{\u001b[39;00mlangA\u001b[38;5;132;01m}\u001b[39;00m\u001b[38;5;124m-\u001b[39m\u001b[38;5;132;01m{\u001b[39;00mlangB\u001b[38;5;132;01m}\u001b[39;00m\u001b[38;5;124m_inputs.tsv\u001b[39m\u001b[38;5;124m'\u001b[39m, \u001b[38;5;124m'\u001b[39m\u001b[38;5;124mr\u001b[39m\u001b[38;5;124m'\u001b[39m)]\n\u001b[0;32m      2\u001b[0m candidates \u001b[38;5;241m=\u001b[39m [l\u001b[38;5;241m.\u001b[39mstrip()\u001b[38;5;241m.\u001b[39msplit(\u001b[38;5;124m'\u001b[39m\u001b[38;5;130;01m\\t\u001b[39;00m\u001b[38;5;124m'\u001b[39m) \u001b[38;5;28;01mfor\u001b[39;00m l \u001b[38;5;129;01min\u001b[39;00m \u001b[38;5;28mopen\u001b[39m(\u001b[38;5;124mf\u001b[39m\u001b[38;5;124m'\u001b[39m\u001b[38;5;124mdataset/\u001b[39m\u001b[38;5;132;01m{\u001b[39;00mlangB\u001b[38;5;132;01m}\u001b[39;00m\u001b[38;5;124m_candidates.tsv\u001b[39m\u001b[38;5;124m'\u001b[39m, \u001b[38;5;124m'\u001b[39m\u001b[38;5;124mr\u001b[39m\u001b[38;5;124m'\u001b[39m)]\n\u001b[1;32m----> 3\u001b[0m gold \u001b[38;5;241m=\u001b[39m {\u001b[38;5;124m'\u001b[39m\u001b[38;5;130;01m\\t\u001b[39;00m\u001b[38;5;124m'\u001b[39m\u001b[38;5;241m.\u001b[39mjoin(l\u001b[38;5;241m.\u001b[39mstrip()\u001b[38;5;241m.\u001b[39msplit(\u001b[38;5;124m'\u001b[39m\u001b[38;5;130;01m\\t\u001b[39;00m\u001b[38;5;124m'\u001b[39m)[:\u001b[38;5;241m2\u001b[39m]): \u001b[38;5;124m'\u001b[39m\u001b[38;5;130;01m\\t\u001b[39;00m\u001b[38;5;124m'\u001b[39m\u001b[38;5;241m.\u001b[39mjoin(l\u001b[38;5;241m.\u001b[39mstrip()\u001b[38;5;241m.\u001b[39msplit(\u001b[38;5;124m'\u001b[39m\u001b[38;5;130;01m\\t\u001b[39;00m\u001b[38;5;124m'\u001b[39m)[\u001b[38;5;241m2\u001b[39m:])  \u001b[38;5;28;01mfor\u001b[39;00m l \u001b[38;5;129;01min\u001b[39;00m \u001b[38;5;28;43mopen\u001b[39;49m\u001b[43m(\u001b[49m\u001b[38;5;124;43mf\u001b[39;49m\u001b[38;5;124;43m'\u001b[39;49m\u001b[38;5;124;43mdataset/\u001b[39;49m\u001b[38;5;132;43;01m{\u001b[39;49;00m\u001b[43mlangA\u001b[49m\u001b[38;5;132;43;01m}\u001b[39;49;00m\u001b[38;5;124;43m-\u001b[39;49m\u001b[38;5;132;43;01m{\u001b[39;49;00m\u001b[43mlangB\u001b[49m\u001b[38;5;132;43;01m}\u001b[39;49;00m\u001b[38;5;124;43m_gold.tsv\u001b[39;49m\u001b[38;5;124;43m'\u001b[39;49m\u001b[43m,\u001b[49m\u001b[43m \u001b[49m\u001b[38;5;124;43m'\u001b[39;49m\u001b[38;5;124;43mr\u001b[39;49m\u001b[38;5;124;43m'\u001b[39;49m\u001b[43m)\u001b[49m}\n\u001b[0;32m      6\u001b[0m ft \u001b[38;5;241m=\u001b[39m panphon\u001b[38;5;241m.\u001b[39mFeatureTable()\n\u001b[0;32m      8\u001b[0m longest_word \u001b[38;5;241m=\u001b[39m \u001b[38;5;28mmax\u001b[39m([\u001b[38;5;28mlen\u001b[39m(inp[\u001b[38;5;241m0\u001b[39m]) \u001b[38;5;28;01mfor\u001b[39;00m inp \u001b[38;5;129;01min\u001b[39;00m inputs] \u001b[38;5;241m+\u001b[39m [\u001b[38;5;28mlen\u001b[39m(can[\u001b[38;5;241m0\u001b[39m]) \u001b[38;5;28;01mfor\u001b[39;00m can \u001b[38;5;129;01min\u001b[39;00m candidates])\n",
      "File \u001b[1;32m~\\AppData\\Roaming\\Python\\Python39\\site-packages\\IPython\\core\\interactiveshell.py:310\u001b[0m, in \u001b[0;36m_modified_open\u001b[1;34m(file, *args, **kwargs)\u001b[0m\n\u001b[0;32m    303\u001b[0m \u001b[38;5;28;01mif\u001b[39;00m file \u001b[38;5;129;01min\u001b[39;00m {\u001b[38;5;241m0\u001b[39m, \u001b[38;5;241m1\u001b[39m, \u001b[38;5;241m2\u001b[39m}:\n\u001b[0;32m    304\u001b[0m     \u001b[38;5;28;01mraise\u001b[39;00m \u001b[38;5;167;01mValueError\u001b[39;00m(\n\u001b[0;32m    305\u001b[0m         \u001b[38;5;124mf\u001b[39m\u001b[38;5;124m\"\u001b[39m\u001b[38;5;124mIPython won\u001b[39m\u001b[38;5;124m'\u001b[39m\u001b[38;5;124mt let you open fd=\u001b[39m\u001b[38;5;132;01m{\u001b[39;00mfile\u001b[38;5;132;01m}\u001b[39;00m\u001b[38;5;124m by default \u001b[39m\u001b[38;5;124m\"\u001b[39m\n\u001b[0;32m    306\u001b[0m         \u001b[38;5;124m\"\u001b[39m\u001b[38;5;124mas it is likely to crash IPython. If you know what you are doing, \u001b[39m\u001b[38;5;124m\"\u001b[39m\n\u001b[0;32m    307\u001b[0m         \u001b[38;5;124m\"\u001b[39m\u001b[38;5;124myou can use builtins\u001b[39m\u001b[38;5;124m'\u001b[39m\u001b[38;5;124m open.\u001b[39m\u001b[38;5;124m\"\u001b[39m\n\u001b[0;32m    308\u001b[0m     )\n\u001b[1;32m--> 310\u001b[0m \u001b[38;5;28;01mreturn\u001b[39;00m io_open(file, \u001b[38;5;241m*\u001b[39margs, \u001b[38;5;241m*\u001b[39m\u001b[38;5;241m*\u001b[39mkwargs)\n",
      "\u001b[1;31mFileNotFoundError\u001b[0m: [Errno 2] No such file or directory: 'dataset/ukhrul-kachai_gold.tsv'"
     ]
    }
   ],
   "source": [
    "inputs = [l.strip().split('\\t') for l in open(f'dataset/{langA}-{langB}_inputs.tsv', 'r')]\n",
    "candidates = [l.strip().split('\\t') for l in open(f'dataset/{langB}_candidates.tsv', 'r')]\n",
    "gold = {'\\t'.join(l.strip().split('\\t')[:2]): '\\t'.join(l.strip().split('\\t')[2:])  for l in open(f'dataset/{langA}-{langB}_gold.tsv', 'r')}\n",
    "\n",
    "\n",
    "ft = panphon.FeatureTable()\n",
    "\n",
    "longest_word = max([len(inp[0]) for inp in inputs] + [len(can[0]) for can in candidates])\n",
    "\n",
    "input_features = np.array([pad_sequence(np.array(ft.word_to_vector_list(inp[0], numeric=True)) + 2, longest_word).reshape(-1) for inp in inputs])\n",
    "candidate_features = np.array([pad_sequence(np.array(ft.word_to_vector_list(can[0], numeric=True)) + 2, longest_word).reshape(-1)  for can in candidates])\n",
    "\n",
    "\n",
    "preds = []\n",
    "\n",
    "for idx in range(input_features.shape[0]):\n",
    "\n",
    "  dists = np.dot(candidate_features, input_features[idx].T) / (np.linalg.norm(candidate_features, axis=1) * np.linalg.norm(input_features[idx]))\n",
    "  defs = np.array([inputs[idx][1] == can[1] for can in candidates], dtype=float)\n",
    "  best = np.argsort(dists + defs)[::-1]\n",
    "  preds.append([\"\\t\".join(candidates[i]) for i in best[:5]])\n",
    "\n",
    "\n",
    "print(mean_reciprocal_rank(gold, inputs, preds))\n",
    "save_preds(preds, langA, langB)"
   ]
  }
 ],
 "metadata": {
  "accelerator": "GPU",
  "colab": {
   "gpuType": "T4",
   "provenance": [
    {
     "file_id": "19o30Uvzd0v5bypZIEod4X6ppHBy7OSkU",
     "timestamp": 1742958487294
    },
    {
     "file_id": "1E6YxiIkQfSaVtSIeWpXPcL04ZhHJNvUL",
     "timestamp": 1741018979073
    }
   ]
  },
  "kernelspec": {
   "display_name": "Python 3",
   "name": "python3"
  },
  "language_info": {
   "codemirror_mode": {
    "name": "ipython",
    "version": 3
   },
   "file_extension": ".py",
   "mimetype": "text/x-python",
   "name": "python",
   "nbconvert_exporter": "python",
   "pygments_lexer": "ipython3",
   "version": "undefined.undefined.undefined"
  }
 },
 "nbformat": 4,
 "nbformat_minor": 0
}
